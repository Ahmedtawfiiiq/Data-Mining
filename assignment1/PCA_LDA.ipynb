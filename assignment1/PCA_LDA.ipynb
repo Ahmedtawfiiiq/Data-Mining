{
 "cells": [
  {
   "cell_type": "code",
   "execution_count": null,
   "metadata": {
    "id": "eQyZuUFkVN2O"
   },
   "outputs": [],
   "source": [
    "# from zipfile import ZipFile\n",
    "\n",
    "# file_name = \"data.zip\"\n",
    "\n",
    "# with ZipFile(file_name, 'r') as zip:\n",
    "#   zip.extractall()\n",
    "#   print('Done')"
   ]
  },
  {
   "cell_type": "code",
   "execution_count": null,
   "metadata": {
    "id": "pJzzF97AmX90"
   },
   "outputs": [],
   "source": [
    "import os\n",
    "from collections import Counter\n",
    "import math\n",
    "import cv2 as cv\n",
    "import numpy as np\n",
    "import pandas as pd\n",
    "from sklearn.preprocessing import MinMaxScaler"
   ]
  },
  {
   "cell_type": "code",
   "execution_count": null,
   "metadata": {
    "id": "qgzxE9Ozj33W"
   },
   "outputs": [],
   "source": [
    "def euclidean_distance(sample1, sample2):\n",
    "    sum_squared_distance = 0\n",
    "    for i in range(len(sample1)):\n",
    "        sum_squared_distance += math.pow(sample1[i] - sample2[i], 2)\n",
    "    return math.sqrt(sum_squared_distance)"
   ]
  },
  {
   "cell_type": "code",
   "execution_count": null,
   "metadata": {
    "id": "vV7jGs7Uj4um"
   },
   "outputs": [],
   "source": [
    "def knn_classifier(data, train_labels, queries, k):\n",
    "\n",
    "  data = pd.DataFrame(data=data)\n",
    "  data[-1] = train_labels\n",
    "  data = data.to_numpy().tolist()\n",
    "\n",
    "  predictions = []\n",
    "  for query in queries:\n",
    "      neighbor_distances_and_indices = []\n",
    "      \n",
    "      for index, example in enumerate(data):\n",
    "          distance = euclidean_distance(example[:-1], query)\n",
    "          neighbor_distances_and_indices.append((distance, index))\n",
    "      \n",
    "      sorted_neighbor_distances_and_indices = sorted(neighbor_distances_and_indices)        \n",
    "      k_nearest_distances_and_indices = sorted_neighbor_distances_and_indices[:k]        \n",
    "      k_nearest_labels = [data[i][-1] for distance, i in k_nearest_distances_and_indices]\n",
    "      predictions.append(Counter(k_nearest_labels).most_common(1)[0][0])\n",
    "  \n",
    "  return predictions"
   ]
  },
  {
   "cell_type": "code",
   "execution_count": null,
   "metadata": {
    "id": "AjjqFRRfkKfd"
   },
   "outputs": [],
   "source": [
    "def accuracy(y_true, y_pred):\n",
    "    correct = 0\n",
    "    for true, pred in zip(y_true, y_pred):\n",
    "        if true == pred:\n",
    "            correct += 1\n",
    "    return correct / len(y_true)"
   ]
  },
  {
   "cell_type": "code",
   "execution_count": null,
   "metadata": {
    "id": "i7071r4_mgnI"
   },
   "outputs": [],
   "source": [
    "number_of_classes = 40\n",
    "\n",
    "rootdir = 'data'\n",
    "images = []\n",
    "\n",
    "for subdir, dirs, files in os.walk(rootdir):\n",
    "    for file in files:\n",
    "        images.append(cv.imread(os.path.join(subdir, file), cv.IMREAD_GRAYSCALE))\n",
    "\n",
    "images = np.array(images)"
   ]
  },
  {
   "cell_type": "code",
   "execution_count": null,
   "metadata": {
    "id": "pJcKOya3mgqU"
   },
   "outputs": [],
   "source": [
    "samples = 400\n",
    "dimensions = 10304\n",
    "\n",
    "data = np.zeros((samples, dimensions))\n",
    "\n",
    "i = 0\n",
    "for image in images:\n",
    "    data[i] = image.reshape((1, -1))\n",
    "    i += 1"
   ]
  },
  {
   "cell_type": "code",
   "execution_count": null,
   "metadata": {
    "id": "rdPYbvOSN-wh"
   },
   "outputs": [],
   "source": [
    "scaler = MinMaxScaler(feature_range=(0, 1))\n",
    "data = scaler.fit_transform(data)"
   ]
  },
  {
   "cell_type": "code",
   "execution_count": null,
   "metadata": {
    "id": "okk4XgRbA_9F"
   },
   "outputs": [],
   "source": [
    "# 50 - 50 data separation\n",
    "\n",
    "training_samples = 200\n",
    "testing_samples = 200\n",
    "training_samples_per_class = 5\n",
    "testing_samples_per_class = 5\n",
    "\n",
    "# 70 - 30 data separation\n",
    "\n",
    "# training_samples = 280\n",
    "# testing_samples = 120\n",
    "# training_samples_per_class = 7\n",
    "# testing_samples_per_class = 3"
   ]
  },
  {
   "cell_type": "code",
   "execution_count": null,
   "metadata": {
    "id": "Is3sQzE_BBkz"
   },
   "outputs": [],
   "source": [
    "def train_test_split_even_odd():\n",
    "  train = [list(data[i]) for i in range(samples) if i % 2 != 0]\n",
    "  test = [list(data[i]) for i in range(samples) if i % 2 == 0]\n",
    "  return train, test"
   ]
  },
  {
   "cell_type": "code",
   "execution_count": null,
   "metadata": {
    "id": "-EqmT-a6BCF_"
   },
   "outputs": [],
   "source": [
    "def train_test_split_7_3():\n",
    "  \n",
    "  samples_per_class = 10\n",
    "  \n",
    "  classes = [data[i:i+samples_per_class].tolist() for i in range(0, samples, samples_per_class)]\n",
    "\n",
    "  training_data = []\n",
    "  testing_data = []\n",
    "  for i in range(number_of_classes):\n",
    "    for j in range(samples_per_class):\n",
    "      if j < 7:\n",
    "        training_data.append(classes[i][j])\n",
    "      else:\n",
    "        testing_data.append(classes[i][j])\n",
    "  return training_data, testing_data"
   ]
  },
  {
   "cell_type": "code",
   "execution_count": null,
   "metadata": {
    "id": "A4J57Ph5BEl_"
   },
   "outputs": [],
   "source": [
    "# 50 - 50 data separation\n",
    "training_data, testing_data  = train_test_split_even_odd()\n",
    "X_train, X_test  = train_test_split_even_odd()\n",
    "\n",
    "# # 70 - 30 data separation\n",
    "# training_data, testing_data = train_test_split_7_3()\n",
    "# X_train, X_test = train_test_split_7_3()"
   ]
  },
  {
   "cell_type": "code",
   "execution_count": null,
   "metadata": {
    "id": "uH9l1wfZmp2u"
   },
   "outputs": [],
   "source": [
    "def get_labels(spc):\n",
    "  labels = []\n",
    "  for i in range(number_of_classes):\n",
    "      for j in range(spc):\n",
    "          labels.append(i+1)\n",
    "  return labels\n",
    "\n",
    "train_labels = get_labels(training_samples_per_class)\n",
    "test_labels = get_labels(testing_samples_per_class)"
   ]
  },
  {
   "cell_type": "code",
   "execution_count": null,
   "metadata": {
    "id": "YbWx6Xu-_xub"
   },
   "outputs": [],
   "source": [
    "def find_n(alpha_s, eig_vals):\n",
    "  n = []\n",
    "  eigen_values = eig_vals.tolist()\n",
    "  summation = sum(eigen_values)\n",
    "  for i in range(len(alpha_s)):\n",
    "    temp = alpha_s[i]\n",
    "    temp *= summation\n",
    "    n_components = 0\n",
    "    l = 0\n",
    "    while l < temp:\n",
    "      l += eigen_values[n_components]\n",
    "      n_components += 1\n",
    "    n.append(n_components)\n",
    "  return n"
   ]
  },
  {
   "cell_type": "code",
   "execution_count": null,
   "metadata": {
    "colab": {
     "base_uri": "https://localhost:8080/"
    },
    "executionInfo": {
     "elapsed": 29052,
     "status": "ok",
     "timestamp": 1679537635595,
     "user": {
      "displayName": "Ahmed Alaa",
      "userId": "06349177510690474716"
     },
     "user_tz": -120
    },
    "id": "fkXPx6bTV648",
    "outputId": "77525a68-6407-4199-aa49-18ae1b3270a5"
   },
   "outputs": [
    {
     "data": {
      "text/plain": [
       "[0.945, 0.9, 0.86, 0.79]"
      ]
     },
     "execution_count": 15,
     "metadata": {},
     "output_type": "execute_result"
    }
   ],
   "source": [
    "# KERNEL PCA\n",
    "\n",
    "from sklearn.decomposition import KernelPCA\n",
    "\n",
    "kpca = KernelPCA(kernel='linear')\n",
    "X_kpca = kpca.fit_transform(training_data)\n",
    "X_kpca_test = kpca.transform(testing_data)\n",
    "\n",
    "score = []\n",
    "classified_labels = []\n",
    "for k in [1, 3, 5, 7]:\n",
    "  current_classified_labels = knn_classifier(X_kpca, train_labels, X_kpca_test, k)\n",
    "  classified_labels.append(current_classified_labels)\n",
    "  score.append(accuracy(test_labels, current_classified_labels))\n",
    "score"
   ]
  },
  {
   "cell_type": "code",
   "execution_count": null,
   "metadata": {
    "colab": {
     "base_uri": "https://localhost:8080/"
    },
    "executionInfo": {
     "elapsed": 1200,
     "status": "ok",
     "timestamp": 1679537712967,
     "user": {
      "displayName": "Ahmed Alaa",
      "userId": "06349177510690474716"
     },
     "user_tz": -120
    },
    "id": "tsFuzLHZN23B",
    "outputId": "c1b0122f-03bf-43c8-f1d6-cd96fd77de6c"
   },
   "outputs": [
    {
     "data": {
      "text/plain": [
       "0.705"
      ]
     },
     "execution_count": 18,
     "metadata": {},
     "output_type": "execute_result"
    }
   ],
   "source": [
    "# KERNEL LCA\n",
    "\n",
    "from sklearn.decomposition import KernelPCA\n",
    "from sklearn.discriminant_analysis import LinearDiscriminantAnalysis\n",
    "\n",
    "kpca = KernelPCA(kernel='linear')\n",
    "X_kpca = kpca.fit_transform(training_data)\n",
    "X_kpca_test = kpca.transform(testing_data)\n",
    "\n",
    "cls = LinearDiscriminantAnalysis()\n",
    "cls.fit(X_kpca, train_labels)\n",
    "cls.score(X_kpca_test, test_labels)"
   ]
  },
  {
   "cell_type": "code",
   "execution_count": null,
   "metadata": {
    "colab": {
     "base_uri": "https://localhost:8080/"
    },
    "executionInfo": {
     "elapsed": 1110,
     "status": "ok",
     "timestamp": 1679533962303,
     "user": {
      "displayName": "Ahmed Alaa",
      "userId": "06349177510690474716"
     },
     "user_tz": -120
    },
    "id": "QrSYR3Q-siCq",
    "outputId": "8b73f2bd-09b4-4606-9d00-104dd242d592"
   },
   "outputs": [
    {
     "name": "stderr",
     "output_type": "stream",
     "text": [
      "/usr/local/lib/python3.9/dist-packages/sklearn/discriminant_analysis.py:926: UserWarning: Variables are collinear\n",
      "  warnings.warn(\"Variables are collinear\")\n"
     ]
    },
    {
     "data": {
      "text/plain": [
       "0.1"
      ]
     },
     "execution_count": 17,
     "metadata": {},
     "output_type": "execute_result"
    }
   ],
   "source": [
    "# Quadratic Discriminant Analysis\n",
    "\n",
    "# (\"Variables are collinear\")\n",
    "# Collinearity means that two or more variables are highly correlated and \n",
    "# can be linearly predicted from each other. \n",
    "# This can cause problems when fitting some models such as Quadratic Discriminant Analysis (QDA) \n",
    "# because it can make the estimates unstable.\n",
    "\n",
    "from sklearn.discriminant_analysis import QuadraticDiscriminantAnalysis\n",
    "\n",
    "qda = QuadraticDiscriminantAnalysis()\n",
    "qda.fit(training_data, train_labels)\n",
    "\n",
    "y_pred = qda.predict(testing_data)\n",
    "accuracy = accuracy(test_labels, y_pred)\n",
    "accuracy"
   ]
  },
  {
   "cell_type": "code",
   "execution_count": null,
   "metadata": {
    "id": "jjHXeuzt-zet"
   },
   "outputs": [],
   "source": [
    "# LDA\n",
    "overall_mean = np.mean(training_data, axis=0)"
   ]
  },
  {
   "cell_type": "code",
   "execution_count": null,
   "metadata": {
    "id": "NCQcN2Mf-2cc"
   },
   "outputs": [],
   "source": [
    "# LDA\n",
    "training_data = [training_data[i:i+training_samples_per_class] for i in range(0, training_samples, training_samples_per_class)]\n",
    "testing_data = [testing_data[i:i+testing_samples_per_class] for i in range(0, testing_samples, testing_samples_per_class)]"
   ]
  },
  {
   "cell_type": "code",
   "execution_count": null,
   "metadata": {
    "colab": {
     "base_uri": "https://localhost:8080/"
    },
    "executionInfo": {
     "elapsed": 44619,
     "status": "ok",
     "timestamp": 1679534006918,
     "user": {
      "displayName": "Ahmed Alaa",
      "userId": "06349177510690474716"
     },
     "user_tz": -120
    },
    "id": "7vGWh98v-5gI",
    "outputId": "c25fe714-3a1a-40a6-9a76-e097d3a8d351"
   },
   "outputs": [
    {
     "data": {
      "text/plain": [
       "array([[ 2.25242296,  2.11387164,  2.21539759, ..., -0.08728368,\n",
       "        -0.02433737,  0.18670257],\n",
       "       [ 2.11387164,  2.15512298,  2.14719502, ..., -0.11830686,\n",
       "        -0.05551877,  0.16258154],\n",
       "       [ 2.21539759,  2.14719502,  2.34378209, ..., -0.09130977,\n",
       "         0.03043638,  0.18747361],\n",
       "       ...,\n",
       "       [-0.08728368, -0.11830686, -0.09130977, ...,  4.36775924,\n",
       "         2.76090844,  1.93764357],\n",
       "       [-0.02433737, -0.05551877,  0.03043638, ...,  2.76090844,\n",
       "         3.40535942,  2.72933926],\n",
       "       [ 0.18670257,  0.16258154,  0.18747361, ...,  1.93764357,\n",
       "         2.72933926,  3.70181271]])"
      ]
     },
     "execution_count": 20,
     "metadata": {},
     "output_type": "execute_result"
    }
   ],
   "source": [
    "# LDA\n",
    "s_w = np.zeros(shape=(dimensions, dimensions))\n",
    "for i in range(number_of_classes):\n",
    "  s_w += np.cov(training_data[i], rowvar=False, bias=True)*training_samples_per_class\n",
    "\n",
    "s_w"
   ]
  },
  {
   "cell_type": "code",
   "execution_count": null,
   "metadata": {
    "colab": {
     "base_uri": "https://localhost:8080/"
    },
    "executionInfo": {
     "elapsed": 5380,
     "status": "ok",
     "timestamp": 1679534012285,
     "user": {
      "displayName": "Ahmed Alaa",
      "userId": "06349177510690474716"
     },
     "user_tz": -120
    },
    "id": "lbiIOUVR-8oO",
    "outputId": "698d851c-d5e5-4f70-ccb7-93b6870b9130"
   },
   "outputs": [
    {
     "data": {
      "text/plain": [
       "array([[80665.56872835, 80665.56872835, 80665.56872835, ...,\n",
       "        80665.56872835, 80665.56872835, 80665.56872835],\n",
       "       [80665.56872835, 80665.56872835, 80665.56872835, ...,\n",
       "        80665.56872835, 80665.56872835, 80665.56872835],\n",
       "       [80665.56872835, 80665.56872835, 80665.56872835, ...,\n",
       "        80665.56872835, 80665.56872835, 80665.56872835],\n",
       "       ...,\n",
       "       [80665.56872835, 80665.56872835, 80665.56872835, ...,\n",
       "        80665.56872835, 80665.56872835, 80665.56872835],\n",
       "       [80665.56872835, 80665.56872835, 80665.56872835, ...,\n",
       "        80665.56872835, 80665.56872835, 80665.56872835],\n",
       "       [80665.56872835, 80665.56872835, 80665.56872835, ...,\n",
       "        80665.56872835, 80665.56872835, 80665.56872835]])"
      ]
     },
     "execution_count": 21,
     "metadata": {},
     "output_type": "execute_result"
    }
   ],
   "source": [
    "# LDA\n",
    "n_k = training_samples_per_class\n",
    "s_b = np.zeros(shape=(dimensions, dimensions))\n",
    "for i in range(number_of_classes):\n",
    "  mean = np.mean(training_data[i], axis=0) - overall_mean\n",
    "  s_b += n_k*(mean.T @ mean)\n",
    "\n",
    "s_b"
   ]
  },
  {
   "cell_type": "code",
   "execution_count": null,
   "metadata": {
    "id": "wXLoG09Iy77r"
   },
   "outputs": [],
   "source": [
    "# PCA\n",
    "# A = np.cov(training_data, rowvar=False, bias=True)"
   ]
  },
  {
   "cell_type": "code",
   "execution_count": null,
   "metadata": {
    "id": "b72fP4co_AmJ"
   },
   "outputs": [],
   "source": [
    "# LDA\n",
    "A = np.linalg.inv(s_w) @ s_b"
   ]
  },
  {
   "cell_type": "code",
   "execution_count": null,
   "metadata": {
    "id": "c_BMfjy0tsTR"
   },
   "outputs": [],
   "source": [
    "# PCA symmetric matrix\n",
    "# eig_vals, eig_vecs = np.linalg.eigh(A)"
   ]
  },
  {
   "cell_type": "code",
   "execution_count": null,
   "metadata": {
    "id": "WmTeA_zty6aa"
   },
   "outputs": [],
   "source": [
    "# LDA non-symmetric matrix\n",
    "eig_vals, eig_vecs = np.linalg.eig(A)"
   ]
  },
  {
   "cell_type": "code",
   "execution_count": null,
   "metadata": {
    "id": "wjH2XSWStgJB"
   },
   "outputs": [],
   "source": [
    "idxs = eig_vals.argsort()[::-1]\n",
    "eig_vals = eig_vals[idxs]\n",
    "eig_vecs = eig_vecs[:, idxs]"
   ]
  },
  {
   "cell_type": "code",
   "execution_count": null,
   "metadata": {
    "id": "8fHSsni_zBr_"
   },
   "outputs": [],
   "source": [
    "# PCA\n",
    "# alpha_s = np.array([0.8, 0.85, 0.9, 0.95])\n",
    "# n = find_n(alpha_s, eig_vals)"
   ]
  },
  {
   "cell_type": "code",
   "execution_count": null,
   "metadata": {
    "id": "fElRZafw_Joh"
   },
   "outputs": [],
   "source": [
    "# LDA\n",
    "n = [number_of_classes - 1]"
   ]
  },
  {
   "cell_type": "code",
   "execution_count": null,
   "metadata": {
    "id": "pdMZRPVaDF1W"
   },
   "outputs": [],
   "source": [
    "def transform_data(n):\n",
    "  projection_matrix = eig_vecs[:, 0:n]\n",
    "  transformed_train = X_train @ projection_matrix\n",
    "  transformed_test = X_test @ projection_matrix\n",
    "  return transformed_train, transformed_test"
   ]
  },
  {
   "cell_type": "code",
   "execution_count": null,
   "metadata": {
    "id": "D9a0SyiTAu_2"
   },
   "outputs": [],
   "source": [
    "def find_accuracy(n_features, tuning_k):\n",
    "  score = []\n",
    "  classified_labels = []\n",
    "  transformed_train, transformed_test = transform_data(n_features)\n",
    "  for k in tuning_k:\n",
    "    current_classified_labels = knn_classifier(transformed_train, train_labels, transformed_test, k)\n",
    "    current_classified_labels = [int(x.real) for x in current_classified_labels]\n",
    "    classified_labels.append(current_classified_labels)\n",
    "    score.append(accuracy(test_labels, current_classified_labels))\n",
    "  return score, classified_labels"
   ]
  },
  {
   "cell_type": "code",
   "execution_count": null,
   "metadata": {
    "colab": {
     "base_uri": "https://localhost:8080/"
    },
    "executionInfo": {
     "elapsed": 4909,
     "status": "ok",
     "timestamp": 1679535140951,
     "user": {
      "displayName": "Ahmed Alaa",
      "userId": "06349177510690474716"
     },
     "user_tz": -120
    },
    "id": "YYIa1PXOAyJ8",
    "outputId": "6ebe4aa9-6e69-46a1-d2cd-bf4e41a37ab7"
   },
   "outputs": [
    {
     "name": "stderr",
     "output_type": "stream",
     "text": [
      "<ipython-input-3-e7030aee6cca>:4: ComplexWarning: Casting complex values to real discards the imaginary part\n",
      "  sum_squared_distance += math.pow(sample1[i] - sample2[i], 2)\n",
      "<ipython-input-3-e7030aee6cca>:4: ComplexWarning: Casting complex values to real discards the imaginary part\n",
      "  sum_squared_distance += math.pow(sample1[i] - sample2[i], 2)\n",
      "<ipython-input-3-e7030aee6cca>:4: ComplexWarning: Casting complex values to real discards the imaginary part\n",
      "  sum_squared_distance += math.pow(sample1[i] - sample2[i], 2)\n",
      "<ipython-input-3-e7030aee6cca>:4: ComplexWarning: Casting complex values to real discards the imaginary part\n",
      "  sum_squared_distance += math.pow(sample1[i] - sample2[i], 2)\n"
     ]
    },
    {
     "name": "stdout",
     "output_type": "stream",
     "text": [
      "-------------------------------\n",
      "[n_components =  39 ]\n",
      "-------------------------------\n",
      "tuning_k =  1\n",
      "0.7333333333333333\n",
      "tuning_k =  3\n",
      "0.7416666666666667\n",
      "tuning_k =  5\n",
      "0.7166666666666667\n",
      "tuning_k =  7\n",
      "0.7\n",
      "-------------------------------\n"
     ]
    }
   ],
   "source": [
    "tuning_k = [1, 3, 5, 7]\n",
    "scores = [find_accuracy(n_features, tuning_k)[0] for n_features in n]\n",
    "\n",
    "print('-------------------------------')\n",
    "index = 0\n",
    "for score in scores:\n",
    "  print('[n_components = ', n[index],']')\n",
    "  print('-------------------------------')\n",
    "  for j in range(len(score)):\n",
    "    print('tuning_k = ', tuning_k[j])\n",
    "    print(score[j])\n",
    "  print('-------------------------------')\n",
    "  index += 1"
   ]
  },
  {
   "cell_type": "code",
   "execution_count": null,
   "metadata": {
    "colab": {
     "base_uri": "https://localhost:8080/",
     "height": 646
    },
    "executionInfo": {
     "elapsed": 16370,
     "status": "ok",
     "timestamp": 1679535192409,
     "user": {
      "displayName": "Ahmed Alaa",
      "userId": "06349177510690474716"
     },
     "user_tz": -120
    },
    "id": "C7cwiuGQKRzm",
    "outputId": "d613c252-792a-4025-f2f0-48e606ffa9c9"
   },
   "outputs": [
    {
     "name": "stderr",
     "output_type": "stream",
     "text": [
      "<ipython-input-3-e7030aee6cca>:4: ComplexWarning: Casting complex values to real discards the imaginary part\n",
      "  sum_squared_distance += math.pow(sample1[i] - sample2[i], 2)\n",
      "<ipython-input-3-e7030aee6cca>:4: ComplexWarning: Casting complex values to real discards the imaginary part\n",
      "  sum_squared_distance += math.pow(sample1[i] - sample2[i], 2)\n",
      "<ipython-input-3-e7030aee6cca>:4: ComplexWarning: Casting complex values to real discards the imaginary part\n",
      "  sum_squared_distance += math.pow(sample1[i] - sample2[i], 2)\n",
      "<ipython-input-3-e7030aee6cca>:4: ComplexWarning: Casting complex values to real discards the imaginary part\n",
      "  sum_squared_distance += math.pow(sample1[i] - sample2[i], 2)\n",
      "<ipython-input-3-e7030aee6cca>:4: ComplexWarning: Casting complex values to real discards the imaginary part\n",
      "  sum_squared_distance += math.pow(sample1[i] - sample2[i], 2)\n",
      "<ipython-input-3-e7030aee6cca>:4: ComplexWarning: Casting complex values to real discards the imaginary part\n",
      "  sum_squared_distance += math.pow(sample1[i] - sample2[i], 2)\n",
      "<ipython-input-3-e7030aee6cca>:4: ComplexWarning: Casting complex values to real discards the imaginary part\n",
      "  sum_squared_distance += math.pow(sample1[i] - sample2[i], 2)\n",
      "<ipython-input-3-e7030aee6cca>:4: ComplexWarning: Casting complex values to real discards the imaginary part\n",
      "  sum_squared_distance += math.pow(sample1[i] - sample2[i], 2)\n",
      "<ipython-input-3-e7030aee6cca>:4: ComplexWarning: Casting complex values to real discards the imaginary part\n",
      "  sum_squared_distance += math.pow(sample1[i] - sample2[i], 2)\n",
      "<ipython-input-3-e7030aee6cca>:4: ComplexWarning: Casting complex values to real discards the imaginary part\n",
      "  sum_squared_distance += math.pow(sample1[i] - sample2[i], 2)\n"
     ]
    },
    {
     "data": {
      "image/png": "[encoded data removed]",
      "text/plain": [
       "<Figure size 432x288 with 1 Axes>"
      ]
     },
     "metadata": {
      "needs_background": "light"
     },
     "output_type": "display_data"
    }
   ],
   "source": [
    "from sklearn.preprocessing import PolynomialFeatures\n",
    "from sklearn.linear_model import LinearRegression\n",
    "import matplotlib.pyplot as plt\n",
    "\n",
    "predictions = [[],[],[],[]]\n",
    "ks = [i for i in range(1, 11)]\n",
    "ksl = [[i] for i in ks]\n",
    "y = [[],[],[],[]]\n",
    "\n",
    "index = 0\n",
    "for n_features in n:\n",
    "\n",
    "  y[index] = find_accuracy(n_features, ks)[0]\n",
    "\n",
    "  # Transform the data to include polynomial features\n",
    "  poly = PolynomialFeatures(degree=7)\n",
    "  X_poly = poly.fit_transform(ksl)\n",
    "\n",
    "  # Create a LinearRegression model and fit it to the transformed data\n",
    "  model = LinearRegression()\n",
    "  model.fit(X_poly, y[index])\n",
    "\n",
    "  # Make predictions using the fitted model\n",
    "  predictions[index] = model.predict(X_poly)\n",
    "  index += 1\n",
    "\n",
    "# Plot the data and the predictions\n",
    "colors = ['blue','orange','green','red']\n",
    "for i in range(len(n)):\n",
    "  plt.scatter(ksl, y[i], color=colors[i])\n",
    "  plt.plot(ksl, predictions[i], color=colors[i], label='n='+str(n[i]))\n",
    "\n",
    "  # Add x and y labels\n",
    "  plt.xlabel('k value')\n",
    "  plt.ylabel('accuracy')\n",
    "\n",
    "  # Add a legend\n",
    "  plt.legend(loc='best')\n",
    "  plt.show()\n"
   ]
  },
  {
   "cell_type": "code",
   "execution_count": null,
   "metadata": {
    "id": "kWZcLnh-YGsA"
   },
   "outputs": [],
   "source": [
    "np.array(find_accuracy(n[0], [1])[1]).T.squeeze().shape\n",
    "# np.array(test_labels).shape"
   ]
  },
  {
   "cell_type": "code",
   "execution_count": null,
   "metadata": {
    "colab": {
     "base_uri": "https://localhost:8080/",
     "height": 653
    },
    "executionInfo": {
     "elapsed": 5511,
     "status": "ok",
     "timestamp": 1679535294656,
     "user": {
      "displayName": "Ahmed Alaa",
      "userId": "06349177510690474716"
     },
     "user_tz": -120
    },
    "id": "SeyaSBUOXis6",
    "outputId": "b7728dd3-55e3-4782-a11b-11bc6a4e1d2b"
   },
   "outputs": [
    {
     "name": "stderr",
     "output_type": "stream",
     "text": [
      "<ipython-input-3-e7030aee6cca>:4: ComplexWarning: Casting complex values to real discards the imaginary part\n",
      "  sum_squared_distance += math.pow(sample1[i] - sample2[i], 2)\n"
     ]
    },
    {
     "data": {
      "image/png": "[encoded data removed]",
      "text/plain": [
       "<Figure size 720x720 with 2 Axes>"
      ]
     },
     "metadata": {
      "needs_background": "light"
     },
     "output_type": "display_data"
    }
   ],
   "source": [
    "from sklearn.metrics import confusion_matrix\n",
    "import seaborn as sns\n",
    "\n",
    "temp = np.array(find_accuracy(n[0], [1])[1]).T.squeeze()\n",
    "cmatrix = confusion_matrix(test_labels, temp)\n",
    "\n",
    "plt.figure(figsize=(10, 10))\n",
    "sns.heatmap(cmatrix, annot=True)\n",
    "plt.show()"
   ]
  }
 ],
 "metadata": {
  "colab": {
   "provenance": []
  },
  "kernelspec": {
   "display_name": "Python 3 (ipykernel)",
   "language": "python",
   "name": "python3"
  },
  "language_info": {
   "codemirror_mode": {
    "name": "ipython",
    "version": 3
   },
   "file_extension": ".py",
   "mimetype": "text/x-python",
   "name": "python",
   "nbconvert_exporter": "python",
   "pygments_lexer": "ipython3",
   "version": "3.10.6"
  }
 },
 "nbformat": 4,
 "nbformat_minor": 1
}
